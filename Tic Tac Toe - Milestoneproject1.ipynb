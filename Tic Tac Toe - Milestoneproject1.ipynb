{
 "cells": [
  {
   "cell_type": "code",
   "execution_count": 1,
   "id": "5fc724ac",
   "metadata": {},
   "outputs": [],
   "source": [
    "from IPython.display import clear_output\n",
    "\n",
    "#FUNC 1 : displays the board (board as a list)\n",
    "\n",
    "def display_board(board):\n",
    "    #Clear Output\n",
    "    clear_output()\n",
    "    \n",
    "    print(board[1]+ '|' + board[2] + '|' + board[3])\n",
    "    print('-----')\n",
    "    print(board[4] + '|' + board[5] + '|' + board[6])\n",
    "    print('-----')\n",
    "    print(board[7] + '|' + board[8] + '|' + board[9])"
   ]
  },
  {
   "cell_type": "code",
   "execution_count": 2,
   "id": "d85efbe0",
   "metadata": {},
   "outputs": [],
   "source": [
    "indexboard = ['0','1','2','3','4','5','6','7','8','9']\n",
    "testboard = ['#','X','O','X','O','X','O','X','O','X']"
   ]
  },
  {
   "cell_type": "code",
   "execution_count": 3,
   "id": "fa6a9959",
   "metadata": {},
   "outputs": [
    {
     "name": "stdout",
     "output_type": "stream",
     "text": [
      "1|2|3\n",
      "-----\n",
      "4|5|6\n",
      "-----\n",
      "7|8|9\n"
     ]
    }
   ],
   "source": [
    "display_board(indexboard)"
   ]
  },
  {
   "cell_type": "code",
   "execution_count": 4,
   "id": "2c32e9e7",
   "metadata": {},
   "outputs": [],
   "source": [
    "def display_no_clearout(board) :\n",
    "    \n",
    "    print( '\\n'*3 )\n",
    "    print(board[1]+ '|' + board[2] + '|' + board[3])\n",
    "    print('-----')\n",
    "    print(board[4] + '|' + board[5] + '|' + board[6])\n",
    "    print('-----')\n",
    "    print(board[7] + '|' + board[8] + '|' + board[9])"
   ]
  },
  {
   "cell_type": "code",
   "execution_count": 5,
   "id": "ea5192c8",
   "metadata": {},
   "outputs": [],
   "source": [
    "# FUNC 2 : get the player input, and assigns a marker to each player. Return a tupple of the markers for each player\n",
    "\n",
    "def marker_player():\n",
    "    marker = ''\n",
    "    \n",
    "    while marker != \"X\" and marker !=\"O\":\n",
    "        marker = input('Player1, please choose a marker between \"X\" and \"O\" : ').upper()\n",
    "    \n",
    "    if marker == \"X\":\n",
    "        return ('X', 'O')\n",
    "    else:\n",
    "        return ('O', 'X')"
   ]
  },
  {
   "cell_type": "code",
   "execution_count": 6,
   "id": "870a6aec",
   "metadata": {},
   "outputs": [],
   "source": [
    "#FUNC 3 : randomly returns which player starts first\n",
    "\n",
    "def play_first():\n",
    "    from random import randint\n",
    "    \n",
    "    if randint(0,1) == 0:\n",
    "        return 'Player 1'\n",
    "    else :\n",
    "        return 'Player 2'"
   ]
  },
  {
   "cell_type": "code",
   "execution_count": 7,
   "id": "430043ab",
   "metadata": {},
   "outputs": [
    {
     "data": {
      "text/plain": [
       "'Player 1'"
      ]
     },
     "execution_count": 7,
     "metadata": {},
     "output_type": "execute_result"
    }
   ],
   "source": [
    "play_first()"
   ]
  },
  {
   "cell_type": "code",
   "execution_count": 8,
   "id": "7c9f9fb7",
   "metadata": {},
   "outputs": [],
   "source": [
    "# FUNC 4 get the input, and returns the position chosen by the player to play next move. Use the func display to display an indexboard\n",
    "def next_position(board):\n",
    "    \n",
    "    position = 0\n",
    "    \n",
    "    while position not in [1,2,3,4,5,6,7,8,9] or not position_free(board, position):\n",
    "        position = int(input('Choose your next position: (1-9) '))\n",
    "        \n",
    "    return position\n",
    "    \n",
    "# ORIGINAL CODE BALU    \n",
    "#    position = ''\n",
    "#    indexboard = ['0','1','2','3','4','5','6','7','8','9']    \n",
    "#    \n",
    "#    while position not in indexboard[1:9]:\n",
    "#        print('Reminder, the position boards looks like this :')\n",
    "#        display_board(indexboard)\n",
    "#        position = input('Based on this indexboard, please choose a position to play next [1-9],  : ')\n",
    "#        \n",
    "#    return position\n"
   ]
  },
  {
   "cell_type": "code",
   "execution_count": 9,
   "id": "4afdcd82",
   "metadata": {},
   "outputs": [],
   "source": [
    "# FUNC 5 checks if the position choosen by the player is free on the board\n",
    "\n",
    "def position_free (board, position):\n",
    "    return board[position] == ' '\n",
    "\n",
    "#COULD ALSO BE WRITTEN WITH FOR LOOP INCL.FREE FUNC :\n",
    "#def full_board_check(board):\n",
    " #   for i in range(1,10):\n",
    "  #      if space_check(board, i):\n",
    "   #         return False\n",
    "    #return True"
   ]
  },
  {
   "cell_type": "code",
   "execution_count": 10,
   "id": "7847d6d2",
   "metadata": {},
   "outputs": [],
   "source": [
    "# FUNC 6 Assign if free : assign the marker of the player if position_free is TRUE :\n",
    "\n",
    "def assign_marker(board, position, marker):\n",
    "    board[position] = marker"
   ]
  },
  {
   "cell_type": "code",
   "execution_count": 11,
   "id": "55e7d1f3",
   "metadata": {},
   "outputs": [],
   "source": [
    "# FUNC 7 Test if win : test if there is a winner :\n",
    "# Here use of index == index == marker --> important to put the marker last, to check the whole line before checking if equals to marker. \n",
    "# if not would say True as for ex if the first equality works.\n",
    "#Alternative : use and statement --> index[] == marker and index[] ==marker ...\n",
    "\n",
    "def check_win(board, marker):\n",
    "    \n",
    "    return ((board[1] == board[2] == board[3] == marker) or #accross the top\n",
    "            (board[4] == board[5] == board[6] == marker) or #accross the middle\n",
    "            (board[7] == board[8] == board[9] == marker) or #accross the bottom\n",
    "            (board[1] == board[4] == board[7] == marker) or #down left side \n",
    "            (board[2] == board[5] == board[8] == marker) or #down middle\n",
    "            (board[3] == board[6] == board[9] == marker) or # down right side\n",
    "            (board[3] == board[5] == board[7] == marker) or # diagonale uprigth down left\n",
    "            (board[1] == board[5] == board[9] == marker)) # diagonale upleft down right"
   ]
  },
  {
   "cell_type": "code",
   "execution_count": 12,
   "id": "7cc5d33d",
   "metadata": {},
   "outputs": [],
   "source": [
    "# FUNC 8 Test if there is a TIE == the board is full :\n",
    "\n",
    "def check_tie(board):\n",
    "    for i in range(1,10):\n",
    "        if position_free(board, i):\n",
    "            return False\n",
    "    return True\n",
    "    \n",
    "    # original solution :\n",
    "    #return ' ' not in board"
   ]
  },
  {
   "cell_type": "code",
   "execution_count": 13,
   "id": "70a02838",
   "metadata": {},
   "outputs": [
    {
     "data": {
      "text/plain": [
       "True"
      ]
     },
     "execution_count": 13,
     "metadata": {},
     "output_type": "execute_result"
    }
   ],
   "source": [
    "check_tie(indexboard)"
   ]
  },
  {
   "cell_type": "code",
   "execution_count": 14,
   "id": "9d7ef753",
   "metadata": {},
   "outputs": [],
   "source": [
    "# FUNC 9 Replay : a function that ask the player if he wants to replay and return True if yes:\n",
    "\n",
    "def replay() :\n",
    "    toreplay = ''\n",
    "    \n",
    "    while toreplay != 'YES' and toreplay != 'NO':\n",
    "        toreplay = input('Do you want to replay (YES or NO) : ').upper()\n",
    "    \n",
    "    if toreplay == 'YES':\n",
    "        return True\n",
    "    else:\n",
    "        return False"
   ]
  },
  {
   "cell_type": "markdown",
   "id": "8ea72a90",
   "metadata": {},
   "source": [
    "**LOGIC : Set up of the logic of the game**"
   ]
  },
  {
   "cell_type": "code",
   "execution_count": 16,
   "id": "d117e290",
   "metadata": {},
   "outputs": [
    {
     "name": "stdout",
     "output_type": "stream",
     "text": [
      "X|O| \n",
      "-----\n",
      "X|O| \n",
      "-----\n",
      "X| | \n",
      "Player 1 you won the game !! Félicitations :D\n",
      "Do you want to replay (YES or NO) : no\n"
     ]
    }
   ],
   "source": [
    "while True :\n",
    "    # SET THE GAME\n",
    "    gameboard = [\" \",\" \",\" \",\" \",\" \",\" \",\" \",\" \",\" \",\" \"]\n",
    "    indexboard = ['0','1','2','3','4','5','6','7','8','9']\n",
    "    player1_marker, player2_marker = marker_player()\n",
    "    turn = play_first()\n",
    "    print(turn + ' will go first.')\n",
    "\n",
    "    # SET Game On\n",
    "    ready = input('Are you ready to start the game (YES or NO) : ').upper()\n",
    "\n",
    "    if ready == 'YES' or ready[0]=='y'.upper():\n",
    "        game_on = True\n",
    "    else :\n",
    "        game_on= False\n",
    "    \n",
    "    \n",
    "    # GAME IS ON - while it is on, the loop continue\n",
    "    while game_on :\n",
    "        \n",
    "        if turn == 'Player 1':\n",
    "            ## 1-DISPLAY BOARD\n",
    "            display_board(gameboard)\n",
    "            \n",
    "            print('^State of the game^')\n",
    "            \n",
    "            display_no_clearout(indexboard)\n",
    "            print('^ Here is the position board ^')\n",
    "            \n",
    "            print( '\\n'*3 )\n",
    "            \n",
    "            ## 2-CHOICE POSITION\n",
    "            print(f\"{turn}, it is time to play !\")\n",
    "            position = next_position(gameboard)\n",
    "            \n",
    "            ## 3-ASSIGN MARKER TO BOARD\n",
    "            assign_marker(gameboard, position, player1_marker)\n",
    "            \n",
    "            ## 4-CHECK IF WIN\n",
    "            if check_win(gameboard, player1_marker) :\n",
    "                display_board(gameboard)\n",
    "                print(f\"{turn} you won the game !! Félicitations :D\")\n",
    "                game_on = False\n",
    "            \n",
    "            ##5-CHECK IF TIE\n",
    "            else: \n",
    "                if check_tie(gameboard):\n",
    "                    display_board(gameboard)\n",
    "                    print('Its a draw! Félicitations to both players')\n",
    "                    game_on = False\n",
    "                    break\n",
    "                else:\n",
    "                    turn = 'Player 2' \n",
    "        else:\n",
    "            ## 1-DISPLAY BOARD\n",
    "            display_board(gameboard)\n",
    "            \n",
    "            print('^State of the game^')\n",
    "            \n",
    "            display_no_clearout(indexboard)\n",
    "            print('^ Here is the position board ^')\n",
    "            \n",
    "            print( '\\n'*3 )\n",
    "            \n",
    "            ## 2-CHOICE POSITION\n",
    "            print(f\"{turn}, it is time to play !\")\n",
    "            position = next_position(gameboard)\n",
    "            \n",
    "            ## 3-ASSIGN MARKER TO BOARD\n",
    "            assign_marker(gameboard, position, player2_marker)\n",
    "            \n",
    "            ## 4-CHECK IF WIN\n",
    "            if check_win(gameboard, player2_marker) :\n",
    "                display_board(gameboard)\n",
    "                print(f\"{turn} you won the game !! Félicitations :D\")\n",
    "                game_on = False\n",
    "            \n",
    "            ##5-CHECK IF TIE\n",
    "            else: \n",
    "                if check_tie(gameboard):\n",
    "                    display_board(gameboard)\n",
    "                    print('Its a draw! Félicitations to both players')\n",
    "                    game_on = False\n",
    "                    break\n",
    "                else:\n",
    "                    turn = 'Player 1' \n",
    "                    \n",
    "    # GAME IS OFF - IF GAMEON IS FALSE, ASK IF WANTS TO REPLAY:\n",
    "    if not replay():\n",
    "        break\n"
   ]
  },
  {
   "cell_type": "code",
   "execution_count": null,
   "id": "0f76179a",
   "metadata": {},
   "outputs": [],
   "source": []
  },
  {
   "cell_type": "code",
   "execution_count": null,
   "id": "36b57e42",
   "metadata": {},
   "outputs": [],
   "source": []
  }
 ],
 "metadata": {
  "kernelspec": {
   "display_name": "Python 3 (ipykernel)",
   "language": "python",
   "name": "python3"
  },
  "language_info": {
   "codemirror_mode": {
    "name": "ipython",
    "version": 3
   },
   "file_extension": ".py",
   "mimetype": "text/x-python",
   "name": "python",
   "nbconvert_exporter": "python",
   "pygments_lexer": "ipython3",
   "version": "3.11.3"
  }
 },
 "nbformat": 4,
 "nbformat_minor": 5
}
